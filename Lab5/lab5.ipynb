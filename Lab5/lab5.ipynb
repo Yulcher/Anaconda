{
 "cells": [
  {
   "cell_type": "code",
   "execution_count": 44,
   "metadata": {},
   "outputs": [],
   "source": [
    "import requests\n",
    "import random\n",
    "class Rate:\n",
    "    def __init__(self, format_='value'):\n",
    "        self.format = format_\n",
    "    def exchange_rates(self):\n",
    "        self.r = requests.get('https://www.cbr-xml-daily.ru/daily_json.js')\n",
    "        return self.r.json()['Valute']\n",
    "    def make_format(self, currency, diff):\n",
    "        response = self.exchange_rates()\n",
    "        if currency in response:\n",
    "            if self.format == 'full':\n",
    "                return response[currency]\n",
    "            if self.format == 'value':\n",
    "                # diff = True - будет возвращать изменение по сравнению в прошлым значением.\n",
    "                if diff:\n",
    "                    dif = response[currency]['Value'] - response[currency]['Previous']\n",
    "                    #if dif\n",
    "                    return dif\n",
    "                else:\n",
    "                    return response[currency]['Value']\n",
    "    def eur(self,diff = False):\n",
    "        return self.make_format('EUR',diff)\n",
    "    \n",
    "    def usd(self,diff = False):\n",
    "        return self.make_format('USD',diff)\n",
    "    \n",
    "    def brl(self,diff = False):\n",
    "        return self.make_format('BRL',diff)\n",
    "    def Max(self):\n",
    "        response = self.exchange_rates()\n",
    "        value, valute = max([(response[valute]['Value'] / response[valute]['Nominal'],valute) for valute in response])\n",
    "        return valute,value"
   ]
  },
  {
   "cell_type": "markdown",
   "metadata": {},
   "source": [
    "**Задание 1**\n",
    "Напишите функцию, которая возвращает название валюты (поле ‘Name’) с максимальным значением курса с помощью сервиса https://www.cbr-xml-daily.ru/daily_json.js\n"
   ]
  },
  {
   "cell_type": "code",
   "execution_count": 47,
   "metadata": {},
   "outputs": [
    {
     "name": "stdout",
     "output_type": "stream",
     "text": [
      "XDR: 109.3281\n"
     ]
    }
   ],
   "source": [
    "r = Rate()\n",
    "valute, value = r.Max()\n",
    "print(f'{valute}: {value}')"
   ]
  },
  {
   "cell_type": "markdown",
   "metadata": {},
   "source": [
    "**Задание 2**\n",
    "Добавьте в класс Rate параметр diff (со значениями True или False), который в случае значения True в методах курсов валют (eur, usd итд) будет возвращать не курс валюты, а изменение по сравнению в прошлым значением. Считайте, self.diff будет принимать значение True только при возврате значения курса. При отображении всей информации о валюте он не используется.\n"
   ]
  },
  {
   "cell_type": "code",
   "execution_count": 48,
   "metadata": {},
   "outputs": [
    {
     "data": {
      "text/plain": [
       "0.2616000000000014"
      ]
     },
     "execution_count": 48,
     "metadata": {},
     "output_type": "execute_result"
    }
   ],
   "source": [
    "r.usd(diff = True)"
   ]
  },
  {
   "cell_type": "code",
   "execution_count": 49,
   "metadata": {},
   "outputs": [
    {
     "data": {
      "text/plain": [
       "0.069500000000005"
      ]
     },
     "execution_count": 49,
     "metadata": {},
     "output_type": "execute_result"
    }
   ],
   "source": [
    "r.eur(diff = True)"
   ]
  },
  {
   "cell_type": "markdown",
   "metadata": {},
   "source": [
    "**Задание 3**\n",
    "Напишите класс Designer, который учитывает количество международных премий для дизайнеров (из презентации: \"Повышение на 1 грейд за каждые 7 баллов. Получение международной премии – это +2 балла\" для каждой аккредитации увеличиваем счетчик на 1, пока считаем, что все дизайнеры проходят аккредитацию). Считайте, что при выходе на работу сотрудник уже имеет две премии и их количество меняется со стажем (получение премии генератор случайных чисел ). Выполните проверку для 20 аккредитаций дизайнера Елены. Подсказки в коде занятия в разделе “Домашнее задание задача 3”.\n"
   ]
  },
  {
   "cell_type": "code",
   "execution_count": 15,
   "metadata": {},
   "outputs": [],
   "source": [
    "class Employee:\n",
    "    def __init__(self, name, seniority, awards):\n",
    "        self.name = name\n",
    "        self.seniority = seniority\n",
    "        self.awards = seniority\n",
    "        self.grade = 1\n",
    "    def grade_up(self):\n",
    "        self.grade += 1\n",
    "    def publish_grade(self):\n",
    "        print(self.name, self.grade)\n",
    "    def check_if_it_is_time_for_upgrade(self):\n",
    "        pass\n",
    "\n",
    "class Designer(Employee):\n",
    "    def __init__(self, name, seniority, awards):\n",
    "        super().__init__(name, seniority, awards) # awards = 2\n",
    "    def check_if_it_is_time_for_upgrade(self):\n",
    "        # для каждой аккредитации увеличиваем счетчик на 1\n",
    "        # пока считаем, что все разработчики проходят аккредитацию\n",
    "        if random.random()>=0.5:\n",
    "            self.awards += 1 \n",
    "        if self.awards:\n",
    "            self.seniority+= 2*self.awards\n",
    "            self.awards = 0\n",
    "        self.seniority += self.seniority\n",
    "        if self.seniority % 7 == 0: # Повышение за каждые 7 баллов\n",
    "            self.grade_up() \n",
    "        return self.publish_grade()"
   ]
  },
  {
   "cell_type": "code",
   "execution_count": 19,
   "metadata": {},
   "outputs": [
    {
     "name": "stdout",
     "output_type": "stream",
     "text": [
      "Елена 2\n",
      "Елена 3\n",
      "Елена 4\n",
      "Елена 5\n",
      "Елена 6\n",
      "Елена 7\n",
      "Елена 7\n",
      "Елена 7\n",
      "Елена 8\n",
      "Елена 8\n",
      "Елена 8\n",
      "Елена 8\n",
      "Елена 8\n",
      "Елена 8\n",
      "Елена 8\n",
      "Елена 8\n",
      "Елена 8\n",
      "Елена 8\n",
      "Елена 8\n",
      "Елена 8\n"
     ]
    }
   ],
   "source": [
    "#Для проверки используйте код:\n",
    "elena = Designer('Елена', seniority=0, awards=2)\n",
    "for i in range(20): \n",
    "    elena.check_if_it_is_time_for_upgrade()"
   ]
  }
 ],
 "metadata": {
  "kernelspec": {
   "display_name": "Python 3",
   "language": "python",
   "name": "python3"
  },
  "language_info": {
   "codemirror_mode": {
    "name": "ipython",
    "version": 3
   },
   "file_extension": ".py",
   "mimetype": "text/x-python",
   "name": "python",
   "nbconvert_exporter": "python",
   "pygments_lexer": "ipython3",
   "version": "3.8.3"
  }
 },
 "nbformat": 4,
 "nbformat_minor": 4
}
